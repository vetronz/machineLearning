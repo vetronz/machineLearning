{
 "cells": [
  {
   "cell_type": "code",
   "execution_count": null,
   "metadata": {},
   "outputs": [],
   "source": [
    "# data is MMFM\n",
    "\n",
    "# Likelihood\n",
    "thetas <- seq(0,1,0.05)\n",
    "\n",
    "like <- c()\n",
    "for (theta in thetas) like <- c(like, (theta^3)*(1-theta)^1)\n",
    "\n",
    "thetas[which.max(like)]"
   ]
  },
  {
   "cell_type": "code",
   "execution_count": null,
   "metadata": {},
   "outputs": [],
   "source": [
    "# Belief 1\n",
    "\n",
    "belief1 <- 1/thetas\n",
    "belief1[1] <- NA\n",
    "belief1 <- belief1/sum(belief1, na.rm=T)\n",
    "\n",
    "par(mfrow=c(1,3))\n",
    "plot(thetas,like,type=\"l\")\n",
    "plot(thetas,belief1,type=\"l\")\n",
    "plot(thetas,belief1*like,type=\"l\")"
   ]
  },
  {
   "cell_type": "code",
   "execution_count": null,
   "metadata": {},
   "outputs": [],
   "source": [
    "thetas[which.max(like*belief1)]"
   ]
  },
  {
   "cell_type": "code",
   "execution_count": null,
   "metadata": {},
   "outputs": [],
   "source": [
    "# Belief 2\n",
    "\n",
    "belief2 <- 1/(thetas^2)\n",
    "belief2[1] <- NA\n",
    "belief2 <- belief2/sum(belief2, na.rm=T)\n",
    "\n",
    "par(mfrow=c(1,3))\n",
    "plot(thetas,like,type=\"l\")\n",
    "plot(thetas,belief2,type=\"l\")\n",
    "plot(thetas,belief2*like,type=\"l\")"
   ]
  },
  {
   "cell_type": "code",
   "execution_count": null,
   "metadata": {},
   "outputs": [],
   "source": [
    "thetas[which.max(like*belief2)]"
   ]
  },
  {
   "cell_type": "code",
   "execution_count": null,
   "metadata": {},
   "outputs": [],
   "source": [
    "# Belief 3\n",
    "\n",
    "belief3 <- 1/(thetas^3)\n",
    "belief3[1] <- NA\n",
    "belief3 <- belief3/sum(belief3, na.rm=T)\n",
    "\n",
    "par(mfrow=c(1,3))\n",
    "plot(thetas,like,type=\"l\")\n",
    "plot(thetas,belief3,type=\"l\")\n",
    "plot(thetas,belief3*like,type=\"l\")"
   ]
  },
  {
   "cell_type": "code",
   "execution_count": null,
   "metadata": {},
   "outputs": [],
   "source": [
    "thetas[which.max(like*belief3)]"
   ]
  },
  {
   "cell_type": "code",
   "execution_count": null,
   "metadata": {},
   "outputs": [],
   "source": []
  },
  {
   "cell_type": "code",
   "execution_count": null,
   "metadata": {},
   "outputs": [],
   "source": []
  },
  {
   "cell_type": "code",
   "execution_count": null,
   "metadata": {},
   "outputs": [],
   "source": []
  },
  {
   "cell_type": "code",
   "execution_count": null,
   "metadata": {},
   "outputs": [],
   "source": []
  },
  {
   "cell_type": "code",
   "execution_count": null,
   "metadata": {},
   "outputs": [],
   "source": []
  },
  {
   "cell_type": "code",
   "execution_count": null,
   "metadata": {},
   "outputs": [],
   "source": [
    "# make it a legitimate probability function?"
   ]
  },
  {
   "cell_type": "code",
   "execution_count": null,
   "metadata": {},
   "outputs": [],
   "source": [
    "prob <- belief2*like\n",
    "prob <- prob / sum(prob, na.rm=T)\n",
    "plot(thetas,prob,type=\"l\")"
   ]
  },
  {
   "cell_type": "code",
   "execution_count": null,
   "metadata": {},
   "outputs": [],
   "source": [
    "sum(prob[thetas<=0.20],na.rm=T)"
   ]
  },
  {
   "cell_type": "code",
   "execution_count": null,
   "metadata": {},
   "outputs": [],
   "source": [
    "sum(prob[thetas<=0.05],na.rm=T)"
   ]
  },
  {
   "cell_type": "code",
   "execution_count": null,
   "metadata": {},
   "outputs": [],
   "source": []
  }
 ],
 "metadata": {
  "kernelspec": {
   "display_name": "R",
   "language": "R",
   "name": "ir"
  },
  "language_info": {
   "codemirror_mode": "r",
   "file_extension": ".r",
   "mimetype": "text/x-r-source",
   "name": "R",
   "pygments_lexer": "r",
   "version": "3.5.1"
  }
 },
 "nbformat": 4,
 "nbformat_minor": 2
}
