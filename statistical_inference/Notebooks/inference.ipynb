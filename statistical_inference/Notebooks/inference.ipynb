{
 "cells": [
  {
   "cell_type": "markdown",
   "metadata": {},
   "source": [
    "# Inference\n",
    "\n",
    "## Hypothesis testing using a t-test\n",
    "\n",
    "__TASK__ Look at these examples where we test for difference in population means between two samples. Try to understand what the output of `t.test` is and why it changes for the different scenarios provided."
   ]
  },
  {
   "cell_type": "code",
   "execution_count": null,
   "metadata": {},
   "outputs": [],
   "source": [
    "pop1 <- rnorm(n=100, mean=5, sd=1)\n",
    "pop2 <- rnorm(n=100, mean=6, sd=1)\n",
    "t.test(x=pop1, y=pop2, alternative=\"two.sided\")"
   ]
  },
  {
   "cell_type": "code",
   "execution_count": null,
   "metadata": {},
   "outputs": [],
   "source": [
    "pop1 <- rnorm(n=100, mean=5, sd=1)\n",
    "pop2 <- rnorm(n=100, mean=5.5, sd=1)\n",
    "t.test(x=pop1, y=pop2, alternative=\"two.sided\")"
   ]
  },
  {
   "cell_type": "code",
   "execution_count": null,
   "metadata": {},
   "outputs": [],
   "source": [
    "pop1 <- rnorm(n=100, mean=5, sd=1)\n",
    "pop2 <- rnorm(n=100, mean=5.5, sd=1)\n",
    "t.test(x=pop1, y=pop2, alternative=\"less\")"
   ]
  },
  {
   "cell_type": "code",
   "execution_count": null,
   "metadata": {},
   "outputs": [],
   "source": [
    "pop1 <- rnorm(n=100, mean=5, sd=1)\n",
    "pop2 <- rnorm(n=100, mean=5.5, sd=1)\n",
    "t.test(x=pop1, y=pop2, alternative=\"greater\")"
   ]
  },
  {
   "cell_type": "code",
   "execution_count": null,
   "metadata": {},
   "outputs": [],
   "source": [
    "pop1 <- rnorm(n=10, mean=5, sd=1)\n",
    "pop2 <- rnorm(n=10, mean=5.5, sd=1)\n",
    "t.test(x=pop1, y=pop2, alternative=\"two.sided\")"
   ]
  },
  {
   "cell_type": "code",
   "execution_count": null,
   "metadata": {},
   "outputs": [],
   "source": [
    "pop1 <- rnorm(n=100, mean=5, sd=1)\n",
    "pop2 <- rpois(n=100, lambda=5)\n",
    "t.test(x=pop1, y=pop2, alternative=\"two.sided\")\n",
    "# what is the expected value of a Poisson distribution? why is the test non significant? what test would you use here instead?"
   ]
  },
  {
   "cell_type": "code",
   "execution_count": null,
   "metadata": {},
   "outputs": [],
   "source": []
  }
 ],
 "metadata": {
  "kernelspec": {
   "display_name": "R",
   "language": "R",
   "name": "ir"
  },
  "language_info": {
   "codemirror_mode": "r",
   "file_extension": ".r",
   "mimetype": "text/x-r-source",
   "name": "R",
   "pygments_lexer": "r",
   "version": "3.5.0"
  }
 },
 "nbformat": 4,
 "nbformat_minor": 2
}
